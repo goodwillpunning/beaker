{
 "cells": [
  {
   "cell_type": "code",
   "execution_count": null,
   "id": "c1f35f99-4af0-4dca-923f-1d38963ba4d6",
   "metadata": {},
   "outputs": [],
   "source": [
    "import os, sys"
   ]
  },
  {
   "cell_type": "code",
   "execution_count": null,
   "id": "8985fd77-f702-495c-940f-92400ba472a9",
   "metadata": {},
   "outputs": [],
   "source": [
    "import logging\n",
    "logger = logging.getLogger()\n",
    "logger.setLevel(logging.INFO)\n"
   ]
  },
  {
   "cell_type": "code",
   "execution_count": null,
   "id": "58fb1eb8-aac6-4a36-8103-c2a15c34c6db",
   "metadata": {},
   "outputs": [],
   "source": [
    "sys.path.append('../src/')"
   ]
  },
  {
   "cell_type": "code",
   "execution_count": null,
   "id": "7e5fef46-98c2-44f3-a5ae-7b44b1b08366",
   "metadata": {},
   "outputs": [],
   "source": [
    "from beaker import benchmark"
   ]
  },
  {
   "cell_type": "code",
   "execution_count": null,
   "id": "2e08370d-d302-4f72-a3d0-f5ebb18cf0f6",
   "metadata": {},
   "outputs": [],
   "source": [
    "bm = benchmark.Benchmark()"
   ]
  },
  {
   "cell_type": "code",
   "execution_count": null,
   "id": "4135ff45-95be-47e9-8b3a-24fae504e613",
   "metadata": {},
   "outputs": [],
   "source": [
    "import importlib\n",
    "importlib.reload(benchmark)"
   ]
  },
  {
   "cell_type": "code",
   "execution_count": null,
   "id": "58f65a8d-e3db-490a-879c-0714d27aa37d",
   "metadata": {},
   "outputs": [],
   "source": [
    "hostname = os.getenv(\"DATABRICKS_HOST\")\n",
    "http_path = os.getenv(\"DATABRICKS_HTTP_PATH\")\n",
    "# Don't put the token in plaintext and check in\n",
    "access_token = os.getenv(\"DATABRICKS_ACCESS_TOKEN\")\n",
    "print(hostname)"
   ]
  },
  {
   "cell_type": "code",
   "execution_count": null,
   "id": "bd04cc75-1331-45f9-be0b-389f55bb6e35",
   "metadata": {},
   "outputs": [],
   "source": [
    "bm.setName(name=\"simple_test\")\n",
    "bm.setHostname(hostname=hostname)\n",
    "bm.setWarehouse(http_path=http_path)\n",
    "bm.setConcurrency(concurrency=1)\n",
    "bm.setWarehouseToken(token=access_token)\n"
   ]
  },
  {
   "cell_type": "code",
   "execution_count": null,
   "id": "881feb1d-f3e7-4506-9df9-eafdeef9115a",
   "metadata": {},
   "outputs": [],
   "source": [
    "query_str=\"\"\"\n",
    "SELECT count(*)\n",
    "  FROM delta.`/databricks-datasets/nyctaxi/tables/nyctaxi_yellow`\n",
    " WHERE passenger_count > 2\n",
    "\"\"\"\n",
    "bm.setQuery(query=query_str)\n",
    "bm.setCatalog(catalog=\"hive_metastore\")\n"
   ]
  },
  {
   "cell_type": "code",
   "execution_count": null,
   "id": "fd31721a-0701-4bea-a880-0caed688afb4",
   "metadata": {},
   "outputs": [],
   "source": [
    "metrics = bm.execute()"
   ]
  },
  {
   "cell_type": "code",
   "execution_count": null,
   "id": "2a8b5eb7-359f-4dab-a1ff-0b4e2e8bd595",
   "metadata": {},
   "outputs": [],
   "source": [
    "metrics"
   ]
  },
  {
   "cell_type": "code",
   "execution_count": null,
   "id": "8df2bd2c-03b5-4032-bfcb-ca880442fe95",
   "metadata": {},
   "outputs": [],
   "source": []
  },
  {
   "cell_type": "code",
   "execution_count": null,
   "id": "48280d72-1497-4c9a-8471-08c53eb10db7",
   "metadata": {},
   "outputs": [],
   "source": [
    "bm.query_file_format = \"semicolon-delimited\""
   ]
  },
  {
   "cell_type": "code",
   "execution_count": null,
   "id": "e4bf5ddb-15fa-4c0f-805d-6411955a3232",
   "metadata": {},
   "outputs": [],
   "source": [
    "bm.setQueryFile('queries/q1.sql')"
   ]
  },
  {
   "cell_type": "code",
   "execution_count": null,
   "id": "361b06ee-d388-48de-93b0-bd1b03ce2527",
   "metadata": {},
   "outputs": [],
   "source": [
    "bm.execute()"
   ]
  },
  {
   "cell_type": "code",
   "execution_count": null,
   "id": "d4753bb4-a833-4f06-9408-6ee3a3d157e1",
   "metadata": {},
   "outputs": [],
   "source": [
    "bm.setQueryFileDir('queries')"
   ]
  },
  {
   "cell_type": "code",
   "execution_count": null,
   "id": "232368e3-85de-454e-ba52-3903d451c2c1",
   "metadata": {},
   "outputs": [],
   "source": [
    "metrics = bm.execute()"
   ]
  },
  {
   "cell_type": "code",
   "execution_count": null,
   "id": "b0b203eb-992c-41e0-8038-40ce733d076c",
   "metadata": {},
   "outputs": [],
   "source": [
    "metrics"
   ]
  },
  {
   "cell_type": "code",
   "execution_count": null,
   "id": "1b4de6a3-1ac9-4ad7-89cd-b8cfaad5e3ba",
   "metadata": {},
   "outputs": [],
   "source": []
  }
 ],
 "metadata": {
  "kernelspec": {
   "display_name": "Python [conda env:mr-delta]",
   "language": "python",
   "name": "conda-env-mr-delta-py"
  },
  "language_info": {
   "codemirror_mode": {
    "name": "ipython",
    "version": 3
   },
   "file_extension": ".py",
   "mimetype": "text/x-python",
   "name": "python",
   "nbconvert_exporter": "python",
   "pygments_lexer": "ipython3",
   "version": "3.9.13"
  }
 },
 "nbformat": 4,
 "nbformat_minor": 5
}
