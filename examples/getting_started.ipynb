{
 "cells": [
  {
   "cell_type": "code",
   "execution_count": 1,
   "id": "c1f35f99-4af0-4dca-923f-1d38963ba4d6",
   "metadata": {},
   "outputs": [],
   "source": [
    "import os, sys"
   ]
  },
  {
   "cell_type": "code",
   "execution_count": 2,
   "id": "8985fd77-f702-495c-940f-92400ba472a9",
   "metadata": {},
   "outputs": [],
   "source": [
    "import logging\n",
    "logger = logging.getLogger()\n",
    "logger.setLevel(logging.INFO)\n"
   ]
  },
  {
   "cell_type": "code",
   "execution_count": 3,
   "id": "58fb1eb8-aac6-4a36-8103-c2a15c34c6db",
   "metadata": {},
   "outputs": [],
   "source": [
    "sys.path.append('../src/')"
   ]
  },
  {
   "cell_type": "code",
   "execution_count": 4,
   "id": "7e5fef46-98c2-44f3-a5ae-7b44b1b08366",
   "metadata": {},
   "outputs": [],
   "source": [
    "from beaker import benchmark"
   ]
  },
  {
   "cell_type": "code",
   "execution_count": 5,
   "id": "2e08370d-d302-4f72-a3d0-f5ebb18cf0f6",
   "metadata": {},
   "outputs": [
    {
     "name": "stderr",
     "output_type": "stream",
     "text": [
      "WARNING:root:self.hostname = None\n"
     ]
    }
   ],
   "source": [
    "bm = benchmark.Benchmark()"
   ]
  },
  {
   "cell_type": "code",
   "execution_count": 6,
   "id": "4135ff45-95be-47e9-8b3a-24fae504e613",
   "metadata": {},
   "outputs": [
    {
     "data": {
      "text/plain": [
       "<module 'beaker.benchmark' from '/Users/nishant.deshpande/repos/beaker/examples/../src/beaker/benchmark.py'>"
      ]
     },
     "execution_count": 6,
     "metadata": {},
     "output_type": "execute_result"
    }
   ],
   "source": [
    "import importlib\n",
    "importlib.reload(benchmark)"
   ]
  },
  {
   "cell_type": "code",
   "execution_count": 7,
   "id": "58f65a8d-e3db-490a-879c-0714d27aa37d",
   "metadata": {},
   "outputs": [
    {
     "name": "stdout",
     "output_type": "stream",
     "text": [
      "e2-demo-field-eng.cloud.databricks.com\n"
     ]
    }
   ],
   "source": [
    "hostname = os.getenv(\"DATABRICKS_HOST\")\n",
    "http_path = os.getenv(\"DATABRICKS_HTTP_PATH\")\n",
    "# Don't put the token in plaintext and check in\n",
    "access_token = os.getenv(\"DATABRICKS_ACCESS_TOKEN\")\n",
    "print(hostname)"
   ]
  },
  {
   "cell_type": "code",
   "execution_count": 8,
   "id": "bd04cc75-1331-45f9-be0b-389f55bb6e35",
   "metadata": {},
   "outputs": [
    {
     "name": "stderr",
     "output_type": "stream",
     "text": [
      "WARNING:root:self.hostname = e2-demo-field-eng.cloud.databricks.com\n"
     ]
    }
   ],
   "source": [
    "bm.setName(name=\"simple_test\")\n",
    "bm.setHostname(hostname=hostname)\n",
    "bm.setWarehouse(http_path=http_path)\n",
    "bm.setConcurrency(concurrency=1)\n",
    "bm.setWarehouseToken(token=access_token)\n"
   ]
  },
  {
   "cell_type": "code",
   "execution_count": 9,
   "id": "881feb1d-f3e7-4506-9df9-eafdeef9115a",
   "metadata": {},
   "outputs": [],
   "source": [
    "query_str=\"\"\"\n",
    "SELECT count(*)\n",
    "  FROM delta.`/databricks-datasets/nyctaxi/tables/nyctaxi_yellow`\n",
    " WHERE passenger_count > 2\n",
    "\"\"\"\n",
    "bm.setQuery(query=query_str)\n",
    "bm.setCatalog(catalog=\"hive_metastore\")\n"
   ]
  },
  {
   "cell_type": "code",
   "execution_count": 10,
   "id": "fd31721a-0701-4bea-a880-0caed688afb4",
   "metadata": {},
   "outputs": [
    {
     "name": "stderr",
     "output_type": "stream",
     "text": [
      "INFO:root:Executing benchmark test.\n",
      "INFO:root:USE CATALOG hive_metastore\n",
      "INFO:databricks.sql.client:Successfully opened session b'\\x01\\xed\\xeda\\x9e%\\x1a4\\x8e \\xbe\\x17y\\x8e\\xf1\\x0b'\n",
      "INFO:root:USE SCHEMA default\n",
      "INFO:databricks.sql.client:Successfully opened session b'\\x01\\xed\\xeda\\x9e\\x89\\x1e\\xe3\\x87\\x9c!E\\xbb\\x9c6('\n",
      "INFO:root:Executing single query.\n",
      "INFO:root:SELECT count(*)\n",
      "  FROM delta.`/databricks-datasets/nyctaxi/tables/nyctaxi_yellow`\n",
      " WHERE passenger_count > 2\n",
      "INFO:databricks.sql.client:Successfully opened session b'\\x01\\xed\\xeda\\x9f\\x01\\x1a\\x0f\\xb5\\x10?T\\xe7\\x7f\\xfdU'\n"
     ]
    }
   ],
   "source": [
    "metrics = bm.execute()"
   ]
  },
  {
   "cell_type": "code",
   "execution_count": 11,
   "id": "2a8b5eb7-359f-4dab-a1ff-0b4e2e8bd595",
   "metadata": {},
   "outputs": [
    {
     "data": {
      "text/plain": [
       "[{'id': 'query',\n",
       "  'hostname': 'e2-demo-field-eng.cloud.databricks.com',\n",
       "  'http_path': '/sql/1.0/endpoints/ead10bf07050390f',\n",
       "  'concurrency': 1,\n",
       "  'query': 'SELECT count(*)\\n  FROM delta.`/databricks-datasets/nyctaxi/tables/nyctaxi_yellow`\\n WHERE passenger_count > 2',\n",
       "  'elapsed_time': '1.460'}]"
      ]
     },
     "execution_count": 11,
     "metadata": {},
     "output_type": "execute_result"
    }
   ],
   "source": [
    "metrics"
   ]
  },
  {
   "cell_type": "code",
   "execution_count": null,
   "id": "8df2bd2c-03b5-4032-bfcb-ca880442fe95",
   "metadata": {},
   "outputs": [],
   "source": []
  },
  {
   "cell_type": "code",
   "execution_count": 12,
   "id": "48280d72-1497-4c9a-8471-08c53eb10db7",
   "metadata": {},
   "outputs": [],
   "source": [
    "bm.query_file_format = \"semicolon-delimited\""
   ]
  },
  {
   "cell_type": "code",
   "execution_count": 13,
   "id": "e4bf5ddb-15fa-4c0f-805d-6411955a3232",
   "metadata": {},
   "outputs": [],
   "source": [
    "bm.setQueryFile('queries/q1.sql')"
   ]
  },
  {
   "cell_type": "code",
   "execution_count": 14,
   "id": "361b06ee-d388-48de-93b0-bd1b03ce2527",
   "metadata": {},
   "outputs": [
    {
     "name": "stderr",
     "output_type": "stream",
     "text": [
      "INFO:root:Executing benchmark test.\n",
      "INFO:root:USE CATALOG hive_metastore\n",
      "INFO:databricks.sql.client:Successfully opened session b'\\x01\\xed\\xeda\\xa2\\xfb\\x1f\\xb0\\x91\\x0c\\xc7\\xdb\\xc9\\xf4f\\xac'\n",
      "INFO:root:USE SCHEMA default\n",
      "INFO:databricks.sql.client:Successfully opened session b\"\\x01\\xed\\xeda\\xa3f\\x18'\\x82\\x89p\\x9cF\\\\\\r\\xd3\"\n",
      "INFO:root:Loading query file.\n",
      "INFO:root:-- {\"query_id\":\"q1\"}\n",
      "select 'q1', now()\n",
      "INFO:databricks.sql.client:Successfully opened session b'\\x01\\xed\\xeda\\xa3\\xd9\\x1a\\x1a\\x92h\\xfe\\xff\\xc2\\x1a=\\n'\n"
     ]
    },
    {
     "data": {
      "text/plain": [
       "[{'id': 'query0',\n",
       "  'hostname': 'e2-demo-field-eng.cloud.databricks.com',\n",
       "  'http_path': '/sql/1.0/endpoints/ead10bf07050390f',\n",
       "  'concurrency': 1,\n",
       "  'query': '-- {\"query_id\":\"q1\"}\\nselect \\'q1\\', now()',\n",
       "  'elapsed_time': '0.721'}]"
      ]
     },
     "execution_count": 14,
     "metadata": {},
     "output_type": "execute_result"
    }
   ],
   "source": [
    "bm.execute()"
   ]
  },
  {
   "cell_type": "code",
   "execution_count": 15,
   "id": "d4753bb4-a833-4f06-9408-6ee3a3d157e1",
   "metadata": {},
   "outputs": [],
   "source": [
    "bm.setQueryFileDir('queries')"
   ]
  },
  {
   "cell_type": "code",
   "execution_count": 16,
   "id": "232368e3-85de-454e-ba52-3903d451c2c1",
   "metadata": {},
   "outputs": [
    {
     "name": "stderr",
     "output_type": "stream",
     "text": [
      "INFO:root:Executing benchmark test.\n",
      "INFO:root:USE CATALOG hive_metastore\n",
      "INFO:databricks.sql.client:Successfully opened session b'\\x01\\xed\\xeda\\xa8\\xc8\\x1cu\\x84K\\xa7X\\xb2\\n[>'\n",
      "INFO:root:USE SCHEMA default\n",
      "INFO:databricks.sql.client:Successfully opened session b'\\x01\\xed\\xeda\\xa90\\x11\\xac\\xb1oA\\xd2q\\x99\\xaf\\x8e'\n",
      "INFO:root:Loading query files from directory.\n",
      "INFO:root:-- {\"query_id\":\"q1\"}\n",
      "select 'q1', now();\n",
      "INFO:databricks.sql.client:Successfully opened session b'\\x01\\xed\\xeda\\xa9\\x9d\\x19\\xc6\\x85\\xba\\x06\\xa8\\xb1he\\x94'\n",
      "INFO:root:-- {\"query_id\":\"q2\"}\n",
      "select 'q2', now();\n",
      "INFO:databricks.sql.client:Successfully opened session b'\\x01\\xed\\xeda\\xaa\\x0b\\x1b\\x87\\xaf\\x8d\\x16\\x17\\x8e\\x90e\\x84'\n"
     ]
    }
   ],
   "source": [
    "metrics = bm.execute()"
   ]
  },
  {
   "cell_type": "code",
   "execution_count": 17,
   "id": "b0b203eb-992c-41e0-8038-40ce733d076c",
   "metadata": {},
   "outputs": [
    {
     "data": {
      "text/plain": [
       "[{'id': 'q1.sql',\n",
       "  'hostname': 'e2-demo-field-eng.cloud.databricks.com',\n",
       "  'http_path': '/sql/1.0/endpoints/ead10bf07050390f',\n",
       "  'concurrency': 1,\n",
       "  'query': '-- {\"query_id\":\"q1\"}\\nselect \\'q1\\', now();',\n",
       "  'elapsed_time': '0.724'},\n",
       " {'id': 'q2.sql',\n",
       "  'hostname': 'e2-demo-field-eng.cloud.databricks.com',\n",
       "  'http_path': '/sql/1.0/endpoints/ead10bf07050390f',\n",
       "  'concurrency': 1,\n",
       "  'query': '-- {\"query_id\":\"q2\"}\\nselect \\'q2\\', now();',\n",
       "  'elapsed_time': '0.730'}]"
      ]
     },
     "execution_count": 17,
     "metadata": {},
     "output_type": "execute_result"
    }
   ],
   "source": [
    "metrics"
   ]
  },
  {
   "cell_type": "code",
   "execution_count": null,
   "id": "1b4de6a3-1ac9-4ad7-89cd-b8cfaad5e3ba",
   "metadata": {},
   "outputs": [],
   "source": []
  }
 ],
 "metadata": {
  "kernelspec": {
   "display_name": "Python [conda env:mr-delta]",
   "language": "python",
   "name": "conda-env-mr-delta-py"
  },
  "language_info": {
   "codemirror_mode": {
    "name": "ipython",
    "version": 3
   },
   "file_extension": ".py",
   "mimetype": "text/x-python",
   "name": "python",
   "nbconvert_exporter": "python",
   "pygments_lexer": "ipython3",
   "version": "3.9.13"
  }
 },
 "nbformat": 4,
 "nbformat_minor": 5
}
